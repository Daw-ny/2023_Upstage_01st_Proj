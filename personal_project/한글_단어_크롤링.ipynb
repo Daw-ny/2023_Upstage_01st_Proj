{
 "cells": [
  {
   "cell_type": "markdown",
   "metadata": {},
   "source": [
    "# 크롤링\n",
    "\n",
    "### 1. 라이브러리 불러오기"
   ]
  },
  {
   "cell_type": "code",
   "execution_count": 1,
   "metadata": {},
   "outputs": [],
   "source": [
    "# crawling module\n",
    "from selenium import webdriver\n",
    "from webdriver_manager.chrome import ChromeDriverManager\n",
    "from selenium.webdriver.common.by import By\n",
    "\n",
    "# preprocessing module\n",
    "from collections import defaultdict\n",
    "import pandas as pd\n",
    "import pickle"
   ]
  },
  {
   "cell_type": "markdown",
   "metadata": {},
   "source": [
    "### 2. 단어 수집하기"
   ]
  },
  {
   "cell_type": "code",
   "execution_count": 2,
   "metadata": {},
   "outputs": [],
   "source": [
    "# 딕셔너리로 저장하기\n",
    "word_hash = defaultdict(int)"
   ]
  },
  {
   "cell_type": "code",
   "execution_count": 3,
   "metadata": {},
   "outputs": [],
   "source": [
    "# 크롬 브라우저 지정 설정\n",
    "ChromeDriverManager().install()\n",
    "browser = webdriver.Chrome()"
   ]
  },
  {
   "cell_type": "code",
   "execution_count": 4,
   "metadata": {},
   "outputs": [
    {
     "data": {
      "text/plain": [
       "'분류:한국어 명사 - 위키낱말사전'"
      ]
     },
     "execution_count": 4,
     "metadata": {},
     "output_type": "execute_result"
    }
   ],
   "source": [
    "# 페이지 가져오기 및 확인하기\n",
    "browser.get('https://ko.wiktionary.org/w/index.php?title=%EB%B6%84%EB%A5%98:%ED%95%9C%EA%B5%AD%EC%96%B4_%EB%AA%85%EC%82%AC&from=%EA%B0%80')\n",
    "browser.title"
   ]
  },
  {
   "cell_type": "code",
   "execution_count": 5,
   "metadata": {},
   "outputs": [],
   "source": [
    "# 한글자 이상인 단어 꺼내기\n",
    "def select_word(element):\n",
    "    word = pd.DataFrame({'words' : element.text.split('\\n')})\n",
    "    no_space_word = word[word['words'].str.contains('\\s') == False]\n",
    "    selected_word = no_space_word[no_space_word['words'].str.len() > 1]\n",
    "    return selected_word['words'].values"
   ]
  },
  {
   "cell_type": "code",
   "execution_count": 6,
   "metadata": {},
   "outputs": [
    {
     "name": "stdout",
     "output_type": "stream",
     "text": [
      "Page:  1\n",
      "Page:  2\n",
      "Page:  3\n",
      "Page:  4\n",
      "Page:  5\n",
      "Page:  6\n",
      "Page:  7\n",
      "Page:  8\n",
      "Page:  9\n",
      "Page:  10\n",
      "Page:  11\n",
      "Page:  12\n",
      "Page:  13\n",
      "Page:  14\n",
      "Page:  15\n",
      "Page:  16\n",
      "Page:  17\n",
      "Page:  18\n",
      "Page:  19\n",
      "Page:  20\n",
      "Page:  21\n",
      "Page:  22\n",
      "Page:  23\n",
      "Page:  24\n",
      "Page:  25\n",
      "Page:  26\n",
      "Page:  27\n",
      "Page:  28\n",
      "Page:  29\n",
      "Page:  30\n",
      "Page:  31\n",
      "Page:  32\n",
      "Page:  33\n",
      "Page:  34\n",
      "Page:  35\n",
      "Page:  36\n",
      "Page:  37\n",
      "Page:  38\n",
      "Page:  39\n",
      "Page:  40\n",
      "Page:  41\n",
      "Page:  42\n",
      "Page:  43\n",
      "Page:  44\n",
      "Page:  45\n",
      "Page:  46\n",
      "Page:  47\n",
      "Page:  48\n",
      "Page:  49\n",
      "Page:  50\n",
      "Page:  51\n",
      "Page:  52\n",
      "Page:  53\n",
      "Page:  54\n",
      "Page:  55\n",
      "Page:  56\n",
      "Page:  57\n",
      "Page:  58\n",
      "Page:  59\n",
      "Page:  60\n",
      "Page:  61\n",
      "Page:  62\n",
      "Page:  63\n",
      "Page:  64\n",
      "Page:  65\n",
      "Page:  66\n",
      "Page:  67\n",
      "Page:  68\n",
      "Page:  69\n",
      "Page:  70\n",
      "Page:  71\n",
      "Page:  72\n",
      "Page:  73\n",
      "Page:  74\n",
      "Page:  75\n",
      "Page:  76\n",
      "Page:  77\n",
      "Page:  78\n",
      "Page:  79\n",
      "Page:  80\n",
      "Page:  81\n",
      "Page:  82\n",
      "Page:  83\n",
      "Page:  84\n",
      "Page:  85\n",
      "Page:  86\n",
      "Page:  87\n",
      "Page:  88\n",
      "Page:  89\n",
      "Page:  90\n",
      "Page:  91\n",
      "Page:  92\n",
      "Page:  93\n",
      "Page:  94\n",
      "Page:  95\n",
      "Page:  96\n",
      "Page:  97\n",
      "Page:  98\n",
      "Page:  99\n",
      "Page:  100\n",
      "Page:  101\n",
      "Page:  102\n",
      "Page:  103\n",
      "Page:  104\n",
      "Page:  105\n",
      "Page:  106\n",
      "Page:  107\n",
      "Page:  108\n",
      "Page:  109\n",
      "Page:  110\n",
      "Page:  111\n",
      "Page:  112\n",
      "Page:  113\n",
      "Page:  114\n",
      "Page:  115\n",
      "Page:  116\n",
      "Page:  117\n",
      "Page:  118\n",
      "Page:  119\n",
      "Page:  120\n",
      "Page:  121\n",
      "Page:  122\n",
      "Page:  123\n",
      "Page:  124\n",
      "Page:  125\n",
      "Page:  126\n",
      "Page:  127\n",
      "Page:  128\n",
      "Page:  129\n"
     ]
    }
   ],
   "source": [
    "# 모든 글자 딕셔너리에 담기\n",
    "for j in range(1, 3000):\n",
    "    print(\"Page: \", j)\n",
    "    # 컨텐츠 확인\n",
    "    content = browser.find_element(By.CLASS_NAME, \"mw-category-group\")\n",
    "\n",
    "    # 단어 가져오기\n",
    "    df = select_word(content)\n",
    "    # 해쉬에 하나씩 집어넣기\n",
    "    for i in df:\n",
    "        if i not in word_hash:\n",
    "            word_hash[i] = 1\n",
    "\n",
    "    try:\n",
    "        xpath = f'//*[@id=\"mw-pages\"]/a[{4}]'\n",
    "        browser.find_element(By.XPATH, xpath).click()\n",
    "\n",
    "    except:\n",
    "        break\n"
   ]
  },
  {
   "cell_type": "markdown",
   "metadata": {},
   "source": [
    "### test"
   ]
  },
  {
   "cell_type": "code",
   "execution_count": 4,
   "metadata": {},
   "outputs": [],
   "source": [
    "# crawling module\n",
    "import requests\n",
    "import json"
   ]
  },
  {
   "cell_type": "code",
   "execution_count": 94,
   "metadata": {},
   "outputs": [],
   "source": [
    "url = 'https://stdict.korean.go.kr/api/search.do'\t\n",
    "query = input()\n",
    "\n",
    "params = {\n",
    "    'key' : '5DFBEAF77F9965204623D6F5106C6336',\n",
    "    'q' : query,\n",
    "    'req_type' : 'json',\n",
    "    'start' : 22,\n",
    "    'num' : 100,\n",
    "    'advanced' : 'y',\n",
    "    'method' : 'start',\n",
    "    'type1' : 'word',\n",
    "    'pos' : 1\n",
    "}"
   ]
  },
  {
   "cell_type": "code",
   "execution_count": 95,
   "metadata": {},
   "outputs": [],
   "source": [
    "res = requests.get(url, params = params)"
   ]
  },
  {
   "cell_type": "code",
   "execution_count": 96,
   "metadata": {},
   "outputs": [
    {
     "ename": "KeyError",
     "evalue": "'channel'",
     "output_type": "error",
     "traceback": [
      "\u001b[1;31m---------------------------------------------------------------------------\u001b[0m",
      "\u001b[1;31mKeyError\u001b[0m                                  Traceback (most recent call last)",
      "\u001b[1;32md:\\log\\Upstage\\python\\Proj\\proj\\personal_project\\한글_단어_크롤링.ipynb Cell 13\u001b[0m line \u001b[0;36m3\n\u001b[0;32m      <a href='vscode-notebook-cell:/d%3A/log/Upstage/python/Proj/proj/personal_project/%ED%95%9C%EA%B8%80_%EB%8B%A8%EC%96%B4_%ED%81%AC%EB%A1%A4%EB%A7%81.ipynb#X30sZmlsZQ%3D%3D?line=0'>1</a>\u001b[0m \u001b[39mif\u001b[39;00m res\u001b[39m.\u001b[39mstatus_code \u001b[39m==\u001b[39m \u001b[39m200\u001b[39m:\n\u001b[0;32m      <a href='vscode-notebook-cell:/d%3A/log/Upstage/python/Proj/proj/personal_project/%ED%95%9C%EA%B8%80_%EB%8B%A8%EC%96%B4_%ED%81%AC%EB%A1%A4%EB%A7%81.ipynb#X30sZmlsZQ%3D%3D?line=1'>2</a>\u001b[0m     data \u001b[39m=\u001b[39m json\u001b[39m.\u001b[39mloads(res\u001b[39m.\u001b[39mtext)\n\u001b[1;32m----> <a href='vscode-notebook-cell:/d%3A/log/Upstage/python/Proj/proj/personal_project/%ED%95%9C%EA%B8%80_%EB%8B%A8%EC%96%B4_%ED%81%AC%EB%A1%A4%EB%A7%81.ipynb#X30sZmlsZQ%3D%3D?line=2'>3</a>\u001b[0m     items \u001b[39m=\u001b[39m data[\u001b[39m'\u001b[39;49m\u001b[39mchannel\u001b[39;49m\u001b[39m'\u001b[39;49m][\u001b[39m'\u001b[39m\u001b[39mitem\u001b[39m\u001b[39m'\u001b[39m]\n",
      "\u001b[1;31mKeyError\u001b[0m: 'channel'"
     ]
    }
   ],
   "source": [
    "if res.status_code == 200:\n",
    "    data = json.loads(res.text)\n",
    "    items = data['channel']['item']"
   ]
  },
  {
   "cell_type": "code",
   "execution_count": 97,
   "metadata": {},
   "outputs": [
    {
     "name": "stdout",
     "output_type": "stream",
     "text": [
      "도화-분\n",
      "도화-사\n",
      "도화-사어\n",
      "도화-사희\n",
      "도화-살\n",
      "도화-새우\n",
      "도화새웃-과\n",
      "도화-색\n",
      "도화-서\n",
      "도화-석\n",
      "도화-선\n",
      "도화-선\n",
      "도화-선\n",
      "도화-수\n",
      "도화-양태\n",
      "도화-원\n",
      "도화원-기\n",
      "도화-인각\n",
      "도화잠불\n",
      "도화-주\n",
      "도화-지\n",
      "도화-차\n",
      "도-화채\n",
      "도화-첩\n",
      "도환\n",
      "도환\n",
      "도환-검\n",
      "도홧-빛\n",
      "도황\n",
      "도회\n",
      "도회\n",
      "도회\n",
      "도회\n",
      "도-회계\n",
      "도-회관\n",
      "도회-병\n",
      "도회-보감\n",
      "도회-소\n",
      "도회-잠실\n",
      "도회-장\n",
      "도회-적\n",
      "도회-지\n",
      "도회지-물\n",
      "도회-처\n",
      "도회-청\n",
      "도회-풍\n",
      "도효\n",
      "도훈\n",
      "도훈\n",
      "도흔\n",
      "도흔\n",
      "도흥\n",
      "도-흥정\n"
     ]
    }
   ],
   "source": [
    "for item in items:\n",
    "    print(item['word'])"
   ]
  },
  {
   "cell_type": "markdown",
   "metadata": {},
   "source": [
    "### 지금까지 학습된 Dictionary 확인"
   ]
  },
  {
   "cell_type": "code",
   "execution_count": 11,
   "metadata": {},
   "outputs": [],
   "source": [
    "from collections import defaultdict\n",
    "import pickle"
   ]
  },
  {
   "cell_type": "code",
   "execution_count": 12,
   "metadata": {},
   "outputs": [],
   "source": [
    "one_word = defaultdict(int)\n",
    "crawling_word = defaultdict(int)"
   ]
  },
  {
   "cell_type": "code",
   "execution_count": 13,
   "metadata": {},
   "outputs": [],
   "source": [
    "with open('word.pickle', 'rb') as fr:\n",
    "    word_hash = pickle.load(fr)\n",
    "\n",
    "with open('oneturn.pickle', 'rb') as fr:\n",
    "    one_word = pickle.load(fr)\n",
    "\n",
    "with open('crawling_word.pickle', 'rb') as fr:\n",
    "    crawling_word = pickle.load(fr)"
   ]
  },
  {
   "cell_type": "code",
   "execution_count": 14,
   "metadata": {},
   "outputs": [
    {
     "data": {
      "text/plain": [
       "dict_keys(['디', '리', '이', '협', '뀌', '지', '체', '널', '박', '곤', '갈', '정', '꽃', '개', '촉', '수', '생', '시', '석', '제', '월', '하', '사', '중', '류', '육', '밭', '실'])"
      ]
     },
     "execution_count": 14,
     "metadata": {},
     "output_type": "execute_result"
    }
   ],
   "source": [
    "crawling_word.keys()"
   ]
  },
  {
   "cell_type": "code",
   "execution_count": 15,
   "metadata": {},
   "outputs": [
    {
     "name": "stdout",
     "output_type": "stream",
     "text": [
      "defaultdict(<class 'int'>, {'새벽녘': 1, '이리듐': 1, '수탉': 1, '부엌': 1, '라듐': 1, '살갗': 1, '생것': 1, '지르코늄': 1})\n"
     ]
    }
   ],
   "source": [
    "print(one_word)"
   ]
  },
  {
   "cell_type": "code",
   "execution_count": 40,
   "metadata": {},
   "outputs": [
    {
     "data": {
      "text/plain": [
       "1"
      ]
     },
     "execution_count": 40,
     "metadata": {},
     "output_type": "execute_result"
    }
   ],
   "source": [
    "word_hash['부엌']"
   ]
  }
 ],
 "metadata": {
  "kernelspec": {
   "display_name": "ss",
   "language": "python",
   "name": "ss"
  },
  "language_info": {
   "codemirror_mode": {
    "name": "ipython",
    "version": 3
   },
   "file_extension": ".py",
   "mimetype": "text/x-python",
   "name": "python",
   "nbconvert_exporter": "python",
   "pygments_lexer": "ipython3",
   "version": "3.8.17"
  }
 },
 "nbformat": 4,
 "nbformat_minor": 2
}
